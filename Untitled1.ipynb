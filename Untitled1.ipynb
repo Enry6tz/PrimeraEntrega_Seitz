{
  "nbformat": 4,
  "nbformat_minor": 0,
  "metadata": {
    "colab": {
      "provenance": [],
      "include_colab_link": true
    },
    "kernelspec": {
      "name": "python3",
      "display_name": "Python 3"
    },
    "language_info": {
      "name": "python"
    }
  },
  "cells": [
    {
      "cell_type": "markdown",
      "metadata": {
        "id": "view-in-github",
        "colab_type": "text"
      },
      "source": [
        "<a href=\"https://colab.research.google.com/github/Enry6tz/PrimeraEntrega_Seitz/blob/main/Untitled1.ipynb\" target=\"_parent\"><img src=\"https://colab.research.google.com/assets/colab-badge.svg\" alt=\"Open In Colab\"/></a>"
      ]
    },
    {
      "cell_type": "markdown",
      "source": [
        "# ADVERTENCIA  \n",
        "Copiar antes de trabajar\n",
        "\n",
        "# Ejecutar una celda  \n",
        "\n",
        "Presionar shift + enter en teclado"
      ],
      "metadata": {
        "id": "EX0Shku79Ksn"
      }
    },
    {
      "cell_type": "code",
      "execution_count": 1,
      "metadata": {
        "id": "GtOspDBu9BOw",
        "colab": {
          "base_uri": "https://localhost:8080/"
        },
        "outputId": "7352c803-ab93-46b3-898f-e60b19a90147"
      },
      "outputs": [
        {
          "output_type": "stream",
          "name": "stdout",
          "text": [
            "1\n"
          ]
        }
      ],
      "source": [
        "resto = 10 % 3\n",
        "print(resto)"
      ]
    }
  ]
}